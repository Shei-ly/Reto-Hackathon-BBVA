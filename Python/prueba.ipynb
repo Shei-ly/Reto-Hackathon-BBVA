{
 "cells": [
  {
   "cell_type": "code",
   "execution_count": 4,
   "metadata": {},
   "outputs": [
    {
     "name": "stdout",
     "output_type": "stream",
     "text": [
      "Hola\n"
     ]
    }
   ],
   "source": [
    "print(\"Hola\")"
   ]
  },
  {
   "cell_type": "code",
   "execution_count": 5,
   "metadata": {},
   "outputs": [],
   "source": [
    "import pandas as pd"
   ]
  },
  {
   "cell_type": "code",
   "execution_count": 6,
   "metadata": {},
   "outputs": [],
   "source": [
    "df = pd.read_csv('baseClientesHackaton2022.csv')"
   ]
  },
  {
   "cell_type": "code",
   "execution_count": 7,
   "metadata": {},
   "outputs": [
    {
     "data": {
      "text/html": [
       "<div>\n",
       "<style scoped>\n",
       "    .dataframe tbody tr th:only-of-type {\n",
       "        vertical-align: middle;\n",
       "    }\n",
       "\n",
       "    .dataframe tbody tr th {\n",
       "        vertical-align: top;\n",
       "    }\n",
       "\n",
       "    .dataframe thead th {\n",
       "        text-align: right;\n",
       "    }\n",
       "</style>\n",
       "<table border=\"1\" class=\"dataframe\">\n",
       "  <thead>\n",
       "    <tr style=\"text-align: right;\">\n",
       "      <th></th>\n",
       "      <th>idCliente</th>\n",
       "      <th>nombre</th>\n",
       "      <th>apellidoPaterno</th>\n",
       "      <th>apellidoMaterno</th>\n",
       "      <th>fechaNacimiento</th>\n",
       "      <th>sexo</th>\n",
       "      <th>segmento</th>\n",
       "      <th>nacionalidad</th>\n",
       "      <th>rfc</th>\n",
       "      <th>tipoID</th>\n",
       "      <th>numeroID</th>\n",
       "      <th>cuenta</th>\n",
       "      <th>email</th>\n",
       "    </tr>\n",
       "  </thead>\n",
       "  <tbody>\n",
       "    <tr>\n",
       "      <th>0</th>\n",
       "      <td>BF000002999</td>\n",
       "      <td>Amelia</td>\n",
       "      <td>Rivero</td>\n",
       "      <td>Calva</td>\n",
       "      <td>25/04/54</td>\n",
       "      <td>Femenino</td>\n",
       "      <td>1.0</td>\n",
       "      <td>Mexicana</td>\n",
       "      <td>RICA2504540SQ</td>\n",
       "      <td>Licencia</td>\n",
       "      <td>RpiCnTz0mwMdQrUChFMs</td>\n",
       "      <td>BE12 7743 3050 0148 8965 5830</td>\n",
       "      <td>ameliarivero@outlook.com</td>\n",
       "    </tr>\n",
       "    <tr>\n",
       "      <th>1</th>\n",
       "      <td>BF000003000</td>\n",
       "      <td>Abril</td>\n",
       "      <td>Ocaña</td>\n",
       "      <td>Almeda</td>\n",
       "      <td>23/10/88</td>\n",
       "      <td>Femenino</td>\n",
       "      <td>1.0</td>\n",
       "      <td>Mexicana</td>\n",
       "      <td>OAAA2310889RD</td>\n",
       "      <td>Licencia</td>\n",
       "      <td>eNZIQWroluPdimMBvLvR</td>\n",
       "      <td>BE73 6285 5537 7223 3693 3275</td>\n",
       "      <td>NaN</td>\n",
       "    </tr>\n",
       "  </tbody>\n",
       "</table>\n",
       "</div>"
      ],
      "text/plain": [
       "     idCliente  nombre apellidoPaterno apellidoMaterno fechaNacimiento  \\\n",
       "0  BF000002999  Amelia          Rivero           Calva        25/04/54   \n",
       "1  BF000003000   Abril           Ocaña          Almeda        23/10/88   \n",
       "\n",
       "       sexo  segmento nacionalidad            rfc    tipoID  \\\n",
       "0  Femenino       1.0     Mexicana  RICA2504540SQ  Licencia   \n",
       "1  Femenino       1.0     Mexicana  OAAA2310889RD  Licencia   \n",
       "\n",
       "               numeroID                         cuenta  \\\n",
       "0  RpiCnTz0mwMdQrUChFMs  BE12 7743 3050 0148 8965 5830   \n",
       "1  eNZIQWroluPdimMBvLvR  BE73 6285 5537 7223 3693 3275   \n",
       "\n",
       "                      email  \n",
       "0  ameliarivero@outlook.com  \n",
       "1                       NaN  "
      ]
     },
     "execution_count": 7,
     "metadata": {},
     "output_type": "execute_result"
    }
   ],
   "source": [
    "df.head(2)"
   ]
  },
  {
   "cell_type": "code",
   "execution_count": 9,
   "metadata": {},
   "outputs": [
    {
     "data": {
      "text/plain": [
       "idCliente                            BF000002999\n",
       "nombre                                    Amelia\n",
       "apellidoPaterno                           Rivero\n",
       "apellidoMaterno                            Calva\n",
       "fechaNacimiento                         25/04/54\n",
       "sexo                                    Femenino\n",
       "segmento                                     1.0\n",
       "nacionalidad                            Mexicana\n",
       "rfc                                RICA2504540SQ\n",
       "tipoID                                  Licencia\n",
       "numeroID                    RpiCnTz0mwMdQrUChFMs\n",
       "cuenta             BE12 7743 3050 0148 8965 5830\n",
       "email                   ameliarivero@outlook.com\n",
       "Name: 0, dtype: object"
      ]
     },
     "execution_count": 9,
     "metadata": {},
     "output_type": "execute_result"
    }
   ],
   "source": [
    "df.iloc[0]"
   ]
  },
  {
   "cell_type": "code",
   "execution_count": 2,
   "metadata": {},
   "outputs": [
    {
     "ename": "NameError",
     "evalue": "name 'df' is not defined",
     "output_type": "error",
     "traceback": [
      "\u001b[0;31m---------------------------------------------------------------------------\u001b[0m",
      "\u001b[0;31mNameError\u001b[0m                                 Traceback (most recent call last)",
      "\u001b[1;32m/home/daniel/Documentos/Reto-Hackathon/Python/prueba.ipynb Celda 6\u001b[0m in \u001b[0;36m<cell line: 1>\u001b[0;34m()\u001b[0m\n\u001b[0;32m----> <a href='vscode-notebook-cell:/home/daniel/Documentos/Reto-Hackathon/Python/prueba.ipynb#ch0000005?line=0'>1</a>\u001b[0m df[df[\u001b[39m'\u001b[39m\u001b[39mnombre\u001b[39m\u001b[39m'\u001b[39m\u001b[39m.\u001b[39mstr\u001b[39m.\u001b[39mcontains(\u001b[39m'\u001b[39m\u001b[39mAmelia\u001b[39m\u001b[39m'\u001b[39m)]]\n",
      "\u001b[0;31mNameError\u001b[0m: name 'df' is not defined"
     ]
    }
   ],
   "source": []
  },
  {
   "cell_type": "code",
   "execution_count": 10,
   "metadata": {},
   "outputs": [
    {
     "data": {
      "text/plain": [
       "idCliente              0\n",
       "nombre                 1\n",
       "apellidoPaterno        2\n",
       "apellidoMaterno    11064\n",
       "fechaNacimiento        3\n",
       "sexo                   1\n",
       "segmento               1\n",
       "nacionalidad           1\n",
       "rfc                11065\n",
       "tipoID                 5\n",
       "numeroID               5\n",
       "cuenta                 1\n",
       "email              66574\n",
       "dtype: int64"
      ]
     },
     "execution_count": 10,
     "metadata": {},
     "output_type": "execute_result"
    }
   ],
   "source": [
    "df.isna().sum()"
   ]
  },
  {
   "cell_type": "code",
   "execution_count": 11,
   "metadata": {},
   "outputs": [
    {
     "name": "stdout",
     "output_type": "stream",
     "text": [
      "<class 'pandas.core.frame.DataFrame'>\n",
      "RangeIndex: 100010 entries, 0 to 100009\n",
      "Data columns (total 13 columns):\n",
      " #   Column           Non-Null Count   Dtype  \n",
      "---  ------           --------------   -----  \n",
      " 0   idCliente        100010 non-null  object \n",
      " 1   nombre           100009 non-null  object \n",
      " 2   apellidoPaterno  100008 non-null  object \n",
      " 3   apellidoMaterno  88946 non-null   object \n",
      " 4   fechaNacimiento  100007 non-null  object \n",
      " 5   sexo             100009 non-null  object \n",
      " 6   segmento         100009 non-null  float64\n",
      " 7   nacionalidad     100009 non-null  object \n",
      " 8   rfc              88945 non-null   object \n",
      " 9   tipoID           100005 non-null  object \n",
      " 10  numeroID         100005 non-null  object \n",
      " 11  cuenta           100009 non-null  object \n",
      " 12  email            33436 non-null   object \n",
      "dtypes: float64(1), object(12)\n",
      "memory usage: 9.9+ MB\n"
     ]
    }
   ],
   "source": [
    "df.info()"
   ]
  },
  {
   "cell_type": "code",
   "execution_count": null,
   "metadata": {},
   "outputs": [],
   "source": []
  }
 ],
 "metadata": {
  "kernelspec": {
   "display_name": "Python 3.10.4 ('venv': venv)",
   "language": "python",
   "name": "python3"
  },
  "language_info": {
   "codemirror_mode": {
    "name": "ipython",
    "version": 3
   },
   "file_extension": ".py",
   "mimetype": "text/x-python",
   "name": "python",
   "nbconvert_exporter": "python",
   "pygments_lexer": "ipython3",
   "version": "3.10.4"
  },
  "orig_nbformat": 4,
  "vscode": {
   "interpreter": {
    "hash": "1ab850d202b8eab95e558d09d28bba6f80cfc8b0b43d7ade92618dca82c626e9"
   }
  }
 },
 "nbformat": 4,
 "nbformat_minor": 2
}
